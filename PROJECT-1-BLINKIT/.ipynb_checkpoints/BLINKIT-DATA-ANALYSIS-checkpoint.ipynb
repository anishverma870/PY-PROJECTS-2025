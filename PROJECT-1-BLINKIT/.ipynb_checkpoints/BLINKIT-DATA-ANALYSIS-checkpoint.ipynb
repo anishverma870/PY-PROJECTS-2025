{
 "cells": [
  {
   "cell_type": "markdown",
   "id": "3cf7c3f5-bbc1-4f51-9917-d28966531253",
   "metadata": {},
   "source": [
    "# DATA ANALYSIS PYTHON PROJECT - BLINKIT ANALYSIS"
   ]
  },
  {
   "cell_type": "markdown",
   "id": "0fa6a488-c1fb-49bb-8122-e63ebeb2d5da",
   "metadata": {},
   "source": [
    "### IMPORT LIBRARIES"
   ]
  },
  {
   "cell_type": "code",
   "execution_count": 3,
   "id": "ac29c120-124e-4a76-9919-dafe218fda25",
   "metadata": {},
   "outputs": [],
   "source": [
    "import pandas as pd \n",
    "import numpy as np \n",
    "import seaborn as sns \n",
    "import matplotlib.pyplot as plt"
   ]
  },
  {
   "cell_type": "markdown",
   "id": "55cdd941-1a9e-484c-b1f1-5463a3a64071",
   "metadata": {},
   "source": [
    "#### IMPORT RAW DATA "
   ]
  },
  {
   "cell_type": "code",
   "execution_count": 5,
   "id": "96367a47-f5a8-474b-b37d-5fd0ba5e93be",
   "metadata": {},
   "outputs": [],
   "source": [
    "bk = pd.read_csv('blinkit-data-dataset.csv')"
   ]
  },
  {
   "cell_type": "markdown",
   "id": "ab016d39-8a75-431d-b05f-9b8d4da55fd2",
   "metadata": {},
   "source": [
    "#### SAMPLE DATA"
   ]
  },
  {
   "cell_type": "code",
   "execution_count": 7,
   "id": "fce02a31-6cc7-4dc5-b0b2-ed7b74988785",
   "metadata": {},
   "outputs": [],
   "source": [
    "pd.set_option('display.max_columns',None)"
   ]
  },
  {
   "cell_type": "code",
   "execution_count": 8,
   "id": "84032569-72db-4cb1-908d-289bae1bb44b",
   "metadata": {},
   "outputs": [],
   "source": [
    "import warnings\n",
    "\n",
    "warnings.filterwarnings('ignore')"
   ]
  },
  {
   "cell_type": "code",
   "execution_count": 9,
   "id": "6928dc5e-db00-4bc5-8569-180a7eace02a",
   "metadata": {},
   "outputs": [
    {
     "data": {
      "text/html": [
       "<div>\n",
       "<style scoped>\n",
       "    .dataframe tbody tr th:only-of-type {\n",
       "        vertical-align: middle;\n",
       "    }\n",
       "\n",
       "    .dataframe tbody tr th {\n",
       "        vertical-align: top;\n",
       "    }\n",
       "\n",
       "    .dataframe thead th {\n",
       "        text-align: right;\n",
       "    }\n",
       "</style>\n",
       "<table border=\"1\" class=\"dataframe\">\n",
       "  <thead>\n",
       "    <tr style=\"text-align: right;\">\n",
       "      <th></th>\n",
       "      <th>Item Fat Content</th>\n",
       "      <th>Item Identifier</th>\n",
       "      <th>Item Type</th>\n",
       "      <th>Outlet Establishment Year</th>\n",
       "      <th>Outlet Identifier</th>\n",
       "      <th>Outlet Location Type</th>\n",
       "      <th>Outlet Size</th>\n",
       "      <th>Outlet Type</th>\n",
       "      <th>Item Visibility</th>\n",
       "      <th>Item Weight</th>\n",
       "      <th>Sales</th>\n",
       "      <th>Rating</th>\n",
       "    </tr>\n",
       "  </thead>\n",
       "  <tbody>\n",
       "    <tr>\n",
       "      <th>0</th>\n",
       "      <td>Regular</td>\n",
       "      <td>FDX32</td>\n",
       "      <td>Fruits and Vegetables</td>\n",
       "      <td>2012</td>\n",
       "      <td>OUT049</td>\n",
       "      <td>Tier 1</td>\n",
       "      <td>Medium</td>\n",
       "      <td>Supermarket Type1</td>\n",
       "      <td>0.100014</td>\n",
       "      <td>15.10</td>\n",
       "      <td>145.4786</td>\n",
       "      <td>5.0</td>\n",
       "    </tr>\n",
       "    <tr>\n",
       "      <th>1</th>\n",
       "      <td>Low Fat</td>\n",
       "      <td>NCB42</td>\n",
       "      <td>Health and Hygiene</td>\n",
       "      <td>2022</td>\n",
       "      <td>OUT018</td>\n",
       "      <td>Tier 3</td>\n",
       "      <td>Medium</td>\n",
       "      <td>Supermarket Type2</td>\n",
       "      <td>0.008596</td>\n",
       "      <td>11.80</td>\n",
       "      <td>115.3492</td>\n",
       "      <td>5.0</td>\n",
       "    </tr>\n",
       "    <tr>\n",
       "      <th>2</th>\n",
       "      <td>Regular</td>\n",
       "      <td>FDR28</td>\n",
       "      <td>Frozen Foods</td>\n",
       "      <td>2010</td>\n",
       "      <td>OUT046</td>\n",
       "      <td>Tier 1</td>\n",
       "      <td>Small</td>\n",
       "      <td>Supermarket Type1</td>\n",
       "      <td>0.025896</td>\n",
       "      <td>13.85</td>\n",
       "      <td>165.0210</td>\n",
       "      <td>5.0</td>\n",
       "    </tr>\n",
       "    <tr>\n",
       "      <th>3</th>\n",
       "      <td>Regular</td>\n",
       "      <td>FDL50</td>\n",
       "      <td>Canned</td>\n",
       "      <td>2000</td>\n",
       "      <td>OUT013</td>\n",
       "      <td>Tier 3</td>\n",
       "      <td>High</td>\n",
       "      <td>Supermarket Type1</td>\n",
       "      <td>0.042278</td>\n",
       "      <td>12.15</td>\n",
       "      <td>126.5046</td>\n",
       "      <td>5.0</td>\n",
       "    </tr>\n",
       "    <tr>\n",
       "      <th>4</th>\n",
       "      <td>Low Fat</td>\n",
       "      <td>DRI25</td>\n",
       "      <td>Soft Drinks</td>\n",
       "      <td>2015</td>\n",
       "      <td>OUT045</td>\n",
       "      <td>Tier 2</td>\n",
       "      <td>Small</td>\n",
       "      <td>Supermarket Type1</td>\n",
       "      <td>0.033970</td>\n",
       "      <td>19.60</td>\n",
       "      <td>55.1614</td>\n",
       "      <td>5.0</td>\n",
       "    </tr>\n",
       "  </tbody>\n",
       "</table>\n",
       "</div>"
      ],
      "text/plain": [
       "  Item Fat Content Item Identifier              Item Type  \\\n",
       "0          Regular           FDX32  Fruits and Vegetables   \n",
       "1          Low Fat           NCB42     Health and Hygiene   \n",
       "2          Regular           FDR28           Frozen Foods   \n",
       "3          Regular           FDL50                 Canned   \n",
       "4          Low Fat           DRI25            Soft Drinks   \n",
       "\n",
       "   Outlet Establishment Year Outlet Identifier Outlet Location Type  \\\n",
       "0                       2012            OUT049               Tier 1   \n",
       "1                       2022            OUT018               Tier 3   \n",
       "2                       2010            OUT046               Tier 1   \n",
       "3                       2000            OUT013               Tier 3   \n",
       "4                       2015            OUT045               Tier 2   \n",
       "\n",
       "  Outlet Size        Outlet Type  Item Visibility  Item Weight     Sales  \\\n",
       "0      Medium  Supermarket Type1         0.100014        15.10  145.4786   \n",
       "1      Medium  Supermarket Type2         0.008596        11.80  115.3492   \n",
       "2       Small  Supermarket Type1         0.025896        13.85  165.0210   \n",
       "3        High  Supermarket Type1         0.042278        12.15  126.5046   \n",
       "4       Small  Supermarket Type1         0.033970        19.60   55.1614   \n",
       "\n",
       "   Rating  \n",
       "0     5.0  \n",
       "1     5.0  \n",
       "2     5.0  \n",
       "3     5.0  \n",
       "4     5.0  "
      ]
     },
     "execution_count": 9,
     "metadata": {},
     "output_type": "execute_result"
    }
   ],
   "source": [
    "bk.head(5)"
   ]
  },
  {
   "cell_type": "code",
   "execution_count": 10,
   "id": "8878c1bb-9967-4770-9ef0-aed3e09e51c0",
   "metadata": {},
   "outputs": [
    {
     "name": "stdout",
     "output_type": "stream",
     "text": [
      "<class 'pandas.core.frame.DataFrame'>\n",
      "RangeIndex: 8523 entries, 0 to 8522\n",
      "Data columns (total 12 columns):\n",
      " #   Column                     Non-Null Count  Dtype  \n",
      "---  ------                     --------------  -----  \n",
      " 0   Item Fat Content           8523 non-null   object \n",
      " 1   Item Identifier            8523 non-null   object \n",
      " 2   Item Type                  8523 non-null   object \n",
      " 3   Outlet Establishment Year  8523 non-null   int64  \n",
      " 4   Outlet Identifier          8523 non-null   object \n",
      " 5   Outlet Location Type       8523 non-null   object \n",
      " 6   Outlet Size                8523 non-null   object \n",
      " 7   Outlet Type                8523 non-null   object \n",
      " 8   Item Visibility            8523 non-null   float64\n",
      " 9   Item Weight                7060 non-null   float64\n",
      " 10  Sales                      8523 non-null   float64\n",
      " 11  Rating                     8523 non-null   float64\n",
      "dtypes: float64(4), int64(1), object(7)\n",
      "memory usage: 799.2+ KB\n"
     ]
    }
   ],
   "source": [
    "bk.info()"
   ]
  },
  {
   "cell_type": "markdown",
   "id": "35b2e19a-6b83-4ae1-9ea5-13f4ef05a2dc",
   "metadata": {},
   "source": [
    "### ROWS AND COLUMNS"
   ]
  },
  {
   "cell_type": "code",
   "execution_count": 27,
   "id": "bfa494ce-49ce-4655-b986-8f88361ce6aa",
   "metadata": {},
   "outputs": [
    {
     "name": "stdout",
     "output_type": "stream",
     "text": [
      "rows :- 8523 columns:- 12\n"
     ]
    }
   ],
   "source": [
    "print('rows :-',bk.shape[0],'columns:-',bk.shape[1])"
   ]
  },
  {
   "cell_type": "markdown",
   "id": "e88e7684-879b-4aed-a367-2a1c8c706a63",
   "metadata": {},
   "source": [
    "###  FEILD INFORMATION"
   ]
  },
  {
   "cell_type": "code",
   "execution_count": 35,
   "id": "0040e8c5-8130-454f-8aac-e107de6e1537",
   "metadata": {},
   "outputs": [
    {
     "data": {
      "text/plain": [
       "Index(['Item Fat Content', 'Item Identifier', 'Item Type',\n",
       "       'Outlet Establishment Year', 'Outlet Identifier',\n",
       "       'Outlet Location Type', 'Outlet Size', 'Outlet Type', 'Item Visibility',\n",
       "       'Item Weight', 'Sales', 'Rating'],\n",
       "      dtype='object')"
      ]
     },
     "execution_count": 35,
     "metadata": {},
     "output_type": "execute_result"
    }
   ],
   "source": [
    "bk.columns"
   ]
  },
  {
   "cell_type": "markdown",
   "id": "259b2365-2f6b-4398-8abd-27a957656702",
   "metadata": {},
   "source": [
    "### DATA TYPES"
   ]
  },
  {
   "cell_type": "code",
   "execution_count": 41,
   "id": "728728be-12cd-45fa-b940-2f01d44735ef",
   "metadata": {},
   "outputs": [
    {
     "data": {
      "text/plain": [
       "Item Fat Content              object\n",
       "Item Identifier               object\n",
       "Item Type                     object\n",
       "Outlet Establishment Year      int64\n",
       "Outlet Identifier             object\n",
       "Outlet Location Type          object\n",
       "Outlet Size                   object\n",
       "Outlet Type                   object\n",
       "Item Visibility              float64\n",
       "Item Weight                  float64\n",
       "Sales                        float64\n",
       "Rating                       float64\n",
       "dtype: object"
      ]
     },
     "execution_count": 41,
     "metadata": {},
     "output_type": "execute_result"
    }
   ],
   "source": [
    "bk.dtypes"
   ]
  },
  {
   "cell_type": "markdown",
   "id": "a777ed30-be93-4e4c-8e8c-370fe3ec04a7",
   "metadata": {},
   "source": [
    "### data standardization."
   ]
  },
  {
   "cell_type": "code",
   "execution_count": 56,
   "id": "afd68452-cee9-44ca-b0b0-ab4eaf64ca53",
   "metadata": {},
   "outputs": [
    {
     "data": {
      "text/plain": [
       "array(['Regular', 'Low Fat', 'low fat', 'LF', 'reg'], dtype=object)"
      ]
     },
     "execution_count": 56,
     "metadata": {},
     "output_type": "execute_result"
    }
   ],
   "source": [
    "bk['Item Fat Content'].unique()"
   ]
  },
  {
   "cell_type": "code",
   "execution_count": 58,
   "id": "aa2eefb9-222b-4b55-bc88-001a91d90eda",
   "metadata": {},
   "outputs": [],
   "source": [
    "bk['Item Fat Content'] = bk['Item Fat Content'].replace({\n",
    "    'low fat':'Low Fat',\n",
    "    'LF':'Low Fat',\n",
    "    'reg':'Regular'\n",
    "})"
   ]
  },
  {
   "cell_type": "code",
   "execution_count": 60,
   "id": "e20358b6-dde0-4f57-81b5-0ab24380f87b",
   "metadata": {},
   "outputs": [
    {
     "data": {
      "text/plain": [
       "array(['Regular', 'Low Fat'], dtype=object)"
      ]
     },
     "execution_count": 60,
     "metadata": {},
     "output_type": "execute_result"
    }
   ],
   "source": [
    "bk['Item Fat Content'].unique()"
   ]
  },
  {
   "cell_type": "markdown",
   "id": "1077bdf6-91a6-4935-b877-a1724323253b",
   "metadata": {},
   "source": [
    "### KPI's REQUIREMENTS"
   ]
  },
  {
   "cell_type": "code",
   "execution_count": 106,
   "id": "b4ecb5a3-afcf-40bd-9a07-579c166ebb1f",
   "metadata": {},
   "outputs": [
    {
     "name": "stdout",
     "output_type": "stream",
     "text": [
      "KPI's REQUIREMENTS\n",
      "__________________ \n",
      "TOTAL SALES:-  1,201,681\n",
      "AVERAGE SALES:- 141\n",
      "NO. OF ITEMS SOLD:- 8523\n",
      "AVERAGE RATING:- 4\n"
     ]
    }
   ],
   "source": [
    "total_sale = bk['Sales'].sum()\n",
    "\n",
    "avg_sale = bk['Sales'].mean()\n",
    "\n",
    "no_of_sale = bk['Sales'].count()\n",
    "\n",
    "avg_rating = bk['Rating'].mean()\n",
    "\n",
    "print(\"KPI's REQUIREMENTS\")\n",
    "print('__________________ ')\n",
    "print(f'TOTAL SALES:-  {total_sale:,.0f}')\n",
    "print(F'AVERAGE SALES:- {avg_sale:,.0f}')\n",
    "print(f'NO. OF ITEMS SOLD:- {no_of_sale}')\n",
    "print(f'AVERAGE RATING:- {avg_rating:,.0f}')"
   ]
  },
  {
   "cell_type": "markdown",
   "id": "eb5d2277-a5a0-4b23-aefa-eba4bc22eb82",
   "metadata": {},
   "source": [
    "## BUSINESS REQUIREMENTS"
   ]
  },
  {
   "cell_type": "markdown",
   "id": "afc68467-b7d7-4a28-a297-c2d7b0b3d9ad",
   "metadata": {},
   "source": [
    "### CHARTS REQUIREMENTS "
   ]
  },
  {
   "cell_type": "markdown",
   "id": "a60f5ee5-31db-40d7-aa28-042a7a83fd9a",
   "metadata": {},
   "source": [
    "### 1. Total Sales by Fat Content:"
   ]
  },
  {
   "cell_type": "code",
   "execution_count": 156,
   "id": "22574ba3-e7dc-4279-99b0-42da8e485dce",
   "metadata": {},
   "outputs": [
    {
     "data": {
      "image/png": "[encoded data removed]",
      "text/plain": [
       "<Figure size 500x250 with 1 Axes>"
      ]
     },
     "metadata": {},
     "output_type": "display_data"
    }
   ],
   "source": [
    "plt.figure(figsize=(5,2.5))\n",
    "tsbfc = bk.groupby('Item Fat Content')['Sales'].sum()\n",
    "plt.pie(tsbfc,labels=tsbfc.index,startangle=90)\n",
    "plt.title('Total Sales by Fat Content',size=20,color='red')\n",
    "plt.show()"
   ]
  },
  {
   "cell_type": "markdown",
   "id": "b64e8331-2c66-47cb-95f6-a7adf7c439af",
   "metadata": {},
   "source": [
    "### 2. Total Sales by Item Type:"
   ]
  },
  {
   "cell_type": "code",
   "execution_count": 171,
   "id": "bff57a61-ec98-4154-ac3f-1c120e3d925e",
   "metadata": {},
   "outputs": [],
   "source": [
    "tsbit = bk.groupby('Item Type')['Sales'].sum().sort_values(ascending=True)"
   ]
  },
  {
   "cell_type": "code",
   "execution_count": 203,
   "id": "b7e0a62f-f300-4683-9fe1-d766b2d7f55e",
   "metadata": {},
   "outputs": [
    {
     "data": {
      "image/png": "[encoded data removed]",
      "text/plain": [
       "<Figure size 640x480 with 1 Axes>"
      ]
     },
     "metadata": {},
     "output_type": "display_data"
    }
   ],
   "source": [
    "sns.barplot(x=tsbit.index,y=tsbit.values,color='orange')\n",
    "plt.xticks(rotation = 90)\n",
    "plt.title('TOTAL SALES BY ITEM TYPE',color='orange')\n",
    "plt.xlabel('ITEM TYPES',color = 'red')\n",
    "plt.ylabel('SALES',color = 'g')\n",
    "plt.tight_layout()\n",
    "plt.show()"
   ]
  },
  {
   "cell_type": "code",
   "execution_count": null,
   "id": "adae03c5-d15e-4683-9f8e-c8d127e4ed4a",
   "metadata": {},
   "outputs": [],
   "source": []
  },
  {
   "cell_type": "code",
   "execution_count": null,
   "id": "9a36d931-8ef4-4868-89ec-a592c3ce06aa",
   "metadata": {},
   "outputs": [],
   "source": []
  },
  {
   "cell_type": "code",
   "execution_count": null,
   "id": "a73f1219-459b-4500-beda-f7865df34573",
   "metadata": {},
   "outputs": [],
   "source": []
  },
  {
   "cell_type": "code",
   "execution_count": null,
   "id": "69c9c222-9774-4c46-badf-c0c3302c2980",
   "metadata": {},
   "outputs": [],
   "source": []
  },
  {
   "cell_type": "code",
   "execution_count": null,
   "id": "413fb7b2-c4ac-44ad-915d-3300674e5ece",
   "metadata": {},
   "outputs": [],
   "source": []
  },
  {
   "cell_type": "code",
   "execution_count": null,
   "id": "33c3593c-3957-4e2f-9e81-1e32be12255f",
   "metadata": {},
   "outputs": [],
   "source": []
  },
  {
   "cell_type": "code",
   "execution_count": null,
   "id": "6b0ee1d3-d6c9-4792-a291-32b49079a349",
   "metadata": {},
   "outputs": [],
   "source": []
  },
  {
   "cell_type": "code",
   "execution_count": null,
   "id": "37cdacc3-ed2a-4ee4-8487-6faf8c46155f",
   "metadata": {},
   "outputs": [],
   "source": []
  },
  {
   "cell_type": "code",
   "execution_count": null,
   "id": "e7301f84-be91-411b-a5fa-0fc1ac373ed9",
   "metadata": {},
   "outputs": [],
   "source": []
  },
  {
   "cell_type": "code",
   "execution_count": null,
   "id": "f292da86-bb5a-45ea-923d-e2ad4337a1de",
   "metadata": {},
   "outputs": [],
   "source": []
  }
 ],
 "metadata": {
  "kernelspec": {
   "display_name": "Python [conda env:base] *",
   "language": "python",
   "name": "conda-base-py"
  },
  "language_info": {
   "codemirror_mode": {
    "name": "ipython",
    "version": 3
   },
   "file_extension": ".py",
   "mimetype": "text/x-python",
   "name": "python",
   "nbconvert_exporter": "python",
   "pygments_lexer": "ipython3",
   "version": "3.12.7"
  }
 },
 "nbformat": 4,
 "nbformat_minor": 5
}
